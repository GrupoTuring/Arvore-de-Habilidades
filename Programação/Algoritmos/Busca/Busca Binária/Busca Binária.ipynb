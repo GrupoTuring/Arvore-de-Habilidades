{
 "cells": [
  {
   "cell_type": "markdown",
   "metadata": {
    "colab_type": "text",
    "id": "_HKHjmQj1Zbg"
   },
   "source": [
    "<img src=\"https://camo.githubusercontent.com/f455b82ed6c200f3f156783c95bf3618fafb7051/68747470733a2f2f692e6962622e636f2f447448513346472f383032783236352d4c6f676f2d47542e706e67\" width=\"600\">"
   ]
  },
  {
   "cell_type": "markdown",
   "metadata": {},
   "source": [
    "***"
   ]
  },
  {
   "cell_type": "markdown",
   "metadata": {},
   "source": [
    "Por **Pedro Rosa**"
   ]
  },
  {
   "cell_type": "markdown",
   "metadata": {},
   "source": [
    "# Busca Binária\n",
    "\n",
    "<img src=\"https://stackabuse.s3.amazonaws.com/media/binary-search-in-java-1.gif\">\n",
    "\n",
    "Um professor entra na sala de aula e deixa em cima da mesa uma pilha de folhas: são as provas feitas na semana anterior pela turma para a qual ele leciona. Sabendo que a pilha se encontra ordenada em ordem alfabética, a forma como um aluno naturalmente encontraria a sua própria avaliação consite em olhar o nome de uma prova arbitrária na pilha e, consoante o nome do aluno encontrado, verificar as folhas anteriores ou posteriores aquela que ele possui em mãos.\n",
    "\n",
    "**Por exemplo:** se Pedro está atrás de sua prova e, arbritariamente, ao dividir a pilha, se depara com a prova de Rodrigo, saberia que sua prova se encontra algumas posições atrás.\n",
    "\n",
    "Essa é a noção intuitiva simplificada que se encontra por trás do respectivo algoritmo de busca. Partindo de uma lista ordenada, o *binary search* a divide em subsequências por meio de um pivô, verificando se o elemento procurado é maior, igual ou menor do que esse. Caso o pivô seja justamente o número buscado, o problema está resolvido. Caso ele seja maior ou menor do que o elemento procurado, quebra-se a lista inicial em outra: do pivô ao fim ou do pivô ao começo, respectivamente. Por fim, repete-se o processo.\n",
    "\n",
    "Abaixo, encontram-se duas diferentes implementações do algoritmo e uma breve discussão sobre sua complexidade."
   ]
  },
  {
   "cell_type": "markdown",
   "metadata": {},
   "source": [
    "***"
   ]
  },
  {
   "cell_type": "markdown",
   "metadata": {
    "colab_type": "text",
    "id": "FYuQttpg1Zbh"
   },
   "source": [
    "## Algoritmo iterativo"
   ]
  },
  {
   "cell_type": "code",
   "execution_count": 1,
   "metadata": {
    "colab": {},
    "colab_type": "code",
    "id": "GiVj0j6u1Zbj",
    "outputId": "789f84f8-074c-4953-de18-4f8eb8c478f4"
   },
   "outputs": [
    {
     "name": "stdout",
     "output_type": "stream",
     "text": [
      "a lista buscada:[7, 16, 20, 23, 27, 29, 44, 51, 54, 65, 68, 88, 89, 95, 97]\n",
      "o que é buscado:68\n",
      "tem índice:10\n"
     ]
    }
   ],
   "source": [
    "import random\n",
    "\n",
    "def Binary_search_i(target, vector):\n",
    "    '''Algoritmo de busca binária. Argumentos: o elemento buscado (target) e a lista vector, na qual o algoritmo busca o target.'''\n",
    "\n",
    "    menor = 0  # inicializa-se no início da lista\n",
    "    maior = len(vector) - 1  # maior deve ser o tamanho da lista-1 pois python começa a indexação por zero\n",
    "    while menor <= maior:  # na ultima iteração 'menor' será iguál a 'maior', por isso a comparação é inclusiva \n",
    "        pivo = (maior+menor)//2\n",
    "        if target == vector[pivo]:\n",
    "            return pivo\n",
    "        # essas atribuições ocorrem incrementando/subtraindo um ao pivô pois o target já foi comparado a este,\n",
    "        # também é importante para o caso onde o target se encontra no final da lista e na ultima iteração a \n",
    "        # variável menor acabará sendo maior que a variável maior.\n",
    "        elif target > vector[pivo]:\n",
    "            menor = pivo + 1             \n",
    "        else:\n",
    "            maior = pivo - 1\n",
    "    return 'None'\n",
    "            \n",
    "vetor = random.sample(range(1, 100), 15)\n",
    "vetor.sort()\n",
    "alvo = vetor[random.randint(0,14)]\n",
    "\n",
    "a = Binary_search_i(alvo, vetor)\n",
    "print(f'a lista buscada:{vetor}\\no que é buscado:{alvo}\\ntem índice:{a}')"
   ]
  },
  {
   "cell_type": "markdown",
   "metadata": {},
   "source": [
    "***"
   ]
  },
  {
   "cell_type": "markdown",
   "metadata": {
    "colab_type": "text",
    "id": "VIpI1PvB1Zby"
   },
   "source": [
    "## Algoritmo recursivo"
   ]
  },
  {
   "cell_type": "code",
   "execution_count": 2,
   "metadata": {
    "colab": {},
    "colab_type": "code",
    "id": "5oFFBPit1Zb0",
    "outputId": "a9f23b35-5863-4dda-aa94-9f595747d23f"
   },
   "outputs": [
    {
     "name": "stdout",
     "output_type": "stream",
     "text": [
      "a lista buscada:[5, 15, 18, 20, 23, 26, 28, 32, 47, 57, 59, 66, 70, 82, 83]\n",
      "o que é buscado:83\n",
      "tem índice:14\n"
     ]
    }
   ],
   "source": [
    "def Binary_search_r(menor, maior, target, vector):\n",
    "    '''Algoritmo de busca binária. Argumentos:\n",
    "        - O elemento buscado (target);\n",
    "        - A lista vector, na qual o algoritmo busca o target;\n",
    "        - O menor indice da procura;\n",
    "        - O maior indice da procura.'''\n",
    "    pivo = (maior+menor)//2\n",
    "    if target == vector[pivo]:\n",
    "        return pivo\n",
    "    # como no exemplo iterativo, é necessário definir números vizinhos ao pivô como início/final do intervalo\n",
    "    elif target > vector[pivo]:\n",
    "        return Binary_search_r(pivo+1, maior, target, vector)           \n",
    "    elif target < vector[pivo]:\n",
    "        return Binary_search_r(menor, pivo-1, target, vector)\n",
    "    return 'None'\n",
    "            \n",
    "vetor = random.sample(range(1, 100), 15)\n",
    "vetor.sort()\n",
    "alvo = vetor[random.randint(0,14)]\n",
    "\n",
    "a = Binary_search_r(0, len(vetor)-1, alvo, vetor)\n",
    "print(f'a lista buscada:{vetor}\\no que é buscado:{alvo}\\ntem índice:{a}')"
   ]
  },
  {
   "cell_type": "markdown",
   "metadata": {},
   "source": [
    "***"
   ]
  },
  {
   "cell_type": "markdown",
   "metadata": {
    "colab_type": "text",
    "id": "MkZqiA_T1Zb_"
   },
   "source": [
    "## Análise de complexidade (Big-Oh)\n",
    "\n",
    "Exemplo de pseudocódigo baseado nas aulas de análise de algoritmos do IME-USP:\n",
    "\n",
    "```python\n",
    "Busca-Binária-Iterativa (A, n, x)\n",
    "1  p ← 0\n",
    "2  r ← n+1\n",
    "3  enquanto  p < r−1  faça\n",
    "4      q ← ⌊(p+r)/2⌋\n",
    "5      se  A[q] < x\n",
    "6          então  p ← q\n",
    "7          senão  r ← q\n",
    "8  devolva  r\n",
    "```\n",
    "\n",
    "Note que:\n",
    "\n",
    "* O tamanho do intervalo analisado pelo algoritmo para qualquer iteração vale $I \\approx maior-menor$.\n",
    "* Na primeira iteração, $I \\approx L$, onde $L$ é o tamanho da lista.\n",
    "* Na segunda iteração, por efeito do elemento pivô, $I \\approx L/2$.\n",
    "* Então, na $n$-ésima iteração, $I \\approx L/2^n$. \n",
    "\n",
    "Ora, como o algoritmo, no pior caso, termina quando $I \\leq 1$, então $1 = L/2^n$ e, portanto, $\\log_2 (L) = n$. Assim, conclui-se então que, no pior caso, o algorítmo iterará no máximo $\\log_2 (L)$ vezes, consequentemente, tem-se para esse algoritmo $\\mathcal{O}(\\log (L))$."
   ]
  },
  {
   "cell_type": "markdown",
   "metadata": {},
   "source": [
    "***"
   ]
  }
 ],
 "metadata": {
  "colab": {
   "name": "BinarySearch .ipynb",
   "provenance": []
  },
  "kernelspec": {
   "display_name": "Python 3",
   "language": "python",
   "name": "python3"
  },
  "language_info": {
   "codemirror_mode": {
    "name": "ipython",
    "version": 3
   },
   "file_extension": ".py",
   "mimetype": "text/x-python",
   "name": "python",
   "nbconvert_exporter": "python",
   "pygments_lexer": "ipython3",
   "version": "3.7.7"
  }
 },
 "nbformat": 4,
 "nbformat_minor": 4
}
