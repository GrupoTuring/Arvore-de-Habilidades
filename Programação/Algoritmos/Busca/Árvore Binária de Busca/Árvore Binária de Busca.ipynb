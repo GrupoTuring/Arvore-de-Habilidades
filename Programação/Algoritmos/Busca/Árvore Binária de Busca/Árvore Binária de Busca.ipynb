{
 "cells": [
  {
   "cell_type": "markdown",
   "metadata": {},
   "source": [
    "<img src=\"https://camo.githubusercontent.com/f455b82ed6c200f3f156783c95bf3618fafb7051/68747470733a2f2f692e6962622e636f2f447448513346472f383032783236352d4c6f676f2d47542e706e67\" width=\"600\">"
   ]
  },
  {
   "cell_type": "markdown",
   "metadata": {},
   "source": [
    "***"
   ]
  },
  {
   "cell_type": "markdown",
   "metadata": {},
   "source": [
    "Por **Pedro Rosa**"
   ]
  },
  {
   "cell_type": "markdown",
   "metadata": {},
   "source": [
    "# Árvore Binária de Busca"
   ]
  },
  {
   "cell_type": "markdown",
   "metadata": {
    "colab_type": "text",
    "id": "lSre6_ZOpQDd"
   },
   "source": [
    "*Binary search trees* (BSTs) são um tipo de *container*: uma estrutura de dados que guarda itens na memória. Esse tipo de estrutura permite uma rápida busca, adição e remoção de elementos.\n",
    "\n",
    "BSTs armazenam valores de forma ordenada a fim de utilizar o princípio de *binary search*: ao procurar um item na árvore, ela é atravessada da raiz às folhas fazendo comparações com cada nódulo e tomando o caminho apropriado, dispensando a necessidade de atravessar metade da árvore para cada comparação. Assim, para cada procura, a construção da árvore permite, de forma análoga ao algoritmo de busca binária, uma complexidade de tempo proporcional ao logaritmo do número de itens na árvore. Isso é muito melhor do que o caráter linear da busca linear: para um *container* com um bilhão de elementos, em seus respectivos piores casos, o algoritmo de *binary search* levaria 30 iterações para achar o valor desejado e o algoritmo de busca linear levaria um bilhão de iterações."
   ]
  },
  {
   "cell_type": "markdown",
   "metadata": {
    "colab_type": "text",
    "id": "gbEwlwyepQDg"
   },
   "source": [
    "## Construção e utilização"
   ]
  },
  {
   "cell_type": "markdown",
   "metadata": {
    "colab_type": "text",
    "id": "1Olf4Bd-pQDl"
   },
   "source": [
    "![alt text](https://upload.wikimedia.org/wikipedia/commons/thumb/9/92/Binary_search_tree_search_4.svg/280px-Binary_search_tree_search_4.svg.png)"
   ]
  },
  {
   "cell_type": "markdown",
   "metadata": {
    "colab_type": "text",
    "id": "TVH419dYpQDt"
   },
   "source": [
    "### Construção\n",
    "\n",
    "BTSs são compostas de nódulos, o primeiro nódulo é chamado de raiz e os nódulos imediatamente abaixo de qualquer outro nódulo são seus filhos, seguindo a hierarquia, chega-se aos nódulos terminais, ou seja, aqueles que não possuem filhos, também chamados de folhas. A árvore é contruída de tal forma que, dado um nódulo de referência, qualquer elemento **maior** do que esse nódulo fica a sua direita, e qualquer elemento **menor**, a sua esquerda. Além disso, a árvore é otimizada escolhendo um elemento como raiz para tentar deixá-la o mais simétrica possível."
   ]
  },
  {
   "cell_type": "markdown",
   "metadata": {
    "colab_type": "text",
    "id": "dLY0fMD5pQDv"
   },
   "source": [
    "### Utilização\n",
    "\n",
    "#### Procura\n",
    "\n",
    "Para achar um elemento dentro da árvore, como é o caso do número quatro na imagem anterior, inicia-se da raiz e compara-se o alvo com cada nódulo; no exemplo, o alvo $4$ é comparado com a raiz $8$ e como é $4 < 8$ todos os elementos à direita da raiz são descartados. Pode-se olhar $3$ e seus descendentes como uma outra BST com raiz $3$, repetem-se essas operações até chegar em uma folha que não é o elemento procurado ou achar o elemento procurado.\n",
    "\n",
    "#### Adição\n",
    "\n",
    "Sempre, ao adicionar um elemento à árvore, esse novo elemento será uma folha, em virtude da forma como a árvore é construída. Se quiséssemos, por exemplo, adicionar o elemento $11$ na árvore da imagem começariamos comparando o elemento com a raiz, como $11 > 8$ sabe-se que ele deve ser posicionado à direita da raiz. O filho à direita da raiz, $10$, e seus descendentes podem ser então enxergados como outra BST. Novamente, compara-se o elemento ao nódulo ($11 > 10$) e toma-se o caminho da direita. Desta vez, contudo, como $11 < 14$ deveria ser tomado o caminho da esquerda, mas não existe nódulo algum à esquerda de $14$, portanto, $11$ deve ser adicionado como filho, à esquerda de $14$.\n",
    "\n",
    "#### Remoção\n",
    "\n",
    "Pode-se dividir a operação de remoção em três casos distintos:\n",
    "\n",
    "* **Deletar uma folha:** deletar uma folha é simples, basta achá-la e retirá-la da árvore sem quaisquer outras alterações, como é o caso de $4,7$ e $13$ no exemplo anterior.\n",
    "    \n",
    "* **Deletar um nódulo com apenas um filho:** ao deletar um nódulo com apenas um filho, esse filho assume a posição do pai, caso $14$ ou $10$ fossem deletados do exemplo, então $10$ ficaria ligado a $13$ ou $8$ ficaria ligado a $14$, respectivamente.\n",
    "    \n",
    "* **Deletar um nódulo com dois filhos:** o caso mais complicado, um nódulo com dois filhos deve ser substituído pelo seu descendente com valor diretamente acima dele, para isso, olha-se para a folha mais à esquerda da sua subárvore da direita, no exemplo, se fosse desejado excluir $3$, então ele deveria ser substituído por $4$, pois este é o elemento mais à esquerda de sua subárvore direita."
   ]
  },
  {
   "cell_type": "markdown",
   "metadata": {
    "colab_type": "text",
    "id": "B-s789KDpQDy"
   },
   "source": [
    "## Aplicação"
   ]
  },
  {
   "cell_type": "code",
   "execution_count": 1,
   "metadata": {
    "colab": {},
    "colab_type": "code",
    "id": "iR7vq6qApQD1"
   },
   "outputs": [],
   "source": [
    "class node:  # começamos criando a classe dos nódulos\n",
    "    \n",
    "    def __init__(self, value, info, parent):  # cada nódulo tem um valor e pode conder informação nele e nódulos filhos\n",
    "        self.value = value \n",
    "        self.info = info\n",
    "        self.right = None\n",
    "        self.left = None\n",
    "        self.parent = None\n",
    "    \n",
    "    def add(self, node):  # cria-se uma forma de adicionar filhos ao nódulo\n",
    "        '''função para adicionar nódulos como descendentes do objeto'''\n",
    "        if node.value > self.value:  # se o nódulo adicionado tem valor maior do que o pai\n",
    "            if self.right == None:\n",
    "                self.right = node  # o nódulo é adicionado à direita\n",
    "                node.parent = self\n",
    "            else:\n",
    "                self.right.add(node)  # se já tiver nódulo à direita, então passamos o nódulo a ser adicionado para aquele\n",
    "        elif node.value < self.value:  # se o nódulo adicionado tem valor menor do que o pai\n",
    "            if self.left == None: \n",
    "                self.left = node  # o nódulo é adicionado à esquerda\n",
    "                node.parent = self\n",
    "            else:\n",
    "                self.left.add(node)  # se já tiver nódulo à esquerda, então passamos o nódulo a ser adicionado para aquele\n",
    "                \n",
    "    def remove(self, root, tree):\n",
    "        'remove um nódulo da árvore'\n",
    "        if self.right==None and self.left==None:  # se for uma folha, apenas deleta\n",
    "            if not root:  # caso não seja a raiz, tiramos a refência do pai ao nódulo\n",
    "                if self.value < self.parent.value:\n",
    "                    self.parent.left = None\n",
    "                else:\n",
    "                    self.parent.right = None\n",
    "            else:  # caso seja, deletamos a raíz\n",
    "                tree.root = None\n",
    "            \n",
    "        elif self.right!=None and self.left!=None:  # se tiver dois filhos, é substituido pelo filho mais à esquerda\n",
    "            nod = self.right  # da sub-árvore da direita\n",
    "            while nod.left!=None:  # acha-se o termo mais à esquerda\n",
    "                nod = nod.left\n",
    "            if nod.right != None:  # caso o termo da sub-árvore da direita mais à esquerda tenha um filho, ele é passado ao pai\n",
    "                nod.parent.left = nod.right\n",
    "            if not root:  # caso não seja a raiz, tiramos a refência do pai ao nódulo\n",
    "                if self.value > self.parent.value:\n",
    "                    self.parent.right = nod\n",
    "                elif self.value < self.parent.value:\n",
    "                    self.parent.left = nod\n",
    "            if nod != self.right: nod.right = self.right  # o nódulo 'nod' agora recebe o pai, e os descendentes do nódulo que \n",
    "            if nod != self.left: nod.left = self.left  # substituirá\n",
    "            nod.parent = self.parent\n",
    "            nod.parent.left = None  # retiram-se as referências ao nódulo em sua antiga posição\n",
    "            self = nod\n",
    "        else:  # se tiver só um filho, é substituido pelo filho\n",
    "            if self.right != None:  # se o filho estiver à direita\n",
    "                if not root:  # caso não seja a raiz, tiramos a refência do pai ao nódulo\n",
    "                    if self.value > self.parent.value:\n",
    "                        self.parent.right = self.right\n",
    "                    else:\n",
    "                        self.parent.left = self.right\n",
    "                self.right.parent = self.parent  # retiramos às referências ao nódulo que será substituído\n",
    "                self = self.right\n",
    "            elif self.left != None:  # analogamente à secção superior se o filho estiver à esquerda\n",
    "                if not root:\n",
    "                    if self.value > self.parent.value:\n",
    "                        self.parent.right = self.left\n",
    "                    else:\n",
    "                        self.parent.left = self.left\n",
    "                self.left.parent = self.parent\n",
    "                self = self.left\n",
    "            \n",
    "    def compare(self, value):\n",
    "        if value > self.value:  # se o valor a ser comparado for maior do que o do nódulo\n",
    "            if self.right != None:  # e houver nódulo à direita\n",
    "                return self.right.compare(value)  # então o nódulo é comparado com o da direita\n",
    "            else:\n",
    "                return None  # indica-se que não há nódulo \n",
    "        elif value < self.value:  # se o valor a ser comparado for menor do que o do nódulo\n",
    "            if self.left != None:  # e houver nódulo à esquerda\n",
    "                return self.left.compare(value)  # então o nódulo é comparado com o da esquerda\n",
    "            else: \n",
    "                return None  # indica-se que não há nódulo\n",
    "        else:\n",
    "            return self  # caso o valor é igual ao do nódulo, retorna-se este\n",
    "\n",
    "    def show(self, vector):\n",
    "        if self.left != None:  # se houver nódulo a esquerda                                  # Observe que a ordem\n",
    "            self.left.show(vector)  # mostra-se ele                                           # aqui é importante\n",
    "        vector.append((self.value,self.info))  # é colocado no vetor o valor e a informação   # para o vetor ficar ordenado\n",
    "        if self.right != None:  # se houver nódulo a direita\n",
    "            self.right.show(vector)  # mostra-se ele\n",
    "        \n",
    "\n",
    "class bst:  # classe da árvore\n",
    "    \n",
    "    def __init__(self):\n",
    "        self.root = None\n",
    "        \n",
    "    def add(self, value, info=None):\n",
    "        'função para adicionar nódulos à árvore'\n",
    "        n = node(value, info,parent = None)  # cria-se o objeto\n",
    "        if self.root == None :  # se não tiver raiz, o nódulo é a raiz árvore \n",
    "            self.root = n\n",
    "        else:\n",
    "            self.root.add(n) \n",
    "            \n",
    "    def find(self, value):\n",
    "        'função para encontrar elementos na árvore'\n",
    "        return self.root.compare(value)  # retorna-se o nódulo com tal valor\n",
    "        \n",
    "    def linear(self):\n",
    "        'função que retorna a árvore como uma lista ordenada de tuplas (valor,informação)'\n",
    "        l = []\n",
    "        self.root.show(l)\n",
    "        return l\n",
    "    \n",
    "    def remove(self, value):\n",
    "        root = False\n",
    "        n = self.find(value)\n",
    "        if n == self.root:\n",
    "            root = True\n",
    "        n.remove(root, self)"
   ]
  },
  {
   "cell_type": "markdown",
   "metadata": {
    "colab_type": "text",
    "id": "dUecUSNepQEH"
   },
   "source": [
    "**Sugestão:** como exercício, você pode tentar implementar uma função de visualização e uma de balanceamento para a árvore."
   ]
  }
 ],
 "metadata": {
  "colab": {
   "name": "BST.ipynb",
   "provenance": []
  },
  "kernelspec": {
   "display_name": "Python 3",
   "language": "python",
   "name": "python3"
  },
  "language_info": {
   "codemirror_mode": {
    "name": "ipython",
    "version": 3
   },
   "file_extension": ".py",
   "mimetype": "text/x-python",
   "name": "python",
   "nbconvert_exporter": "python",
   "pygments_lexer": "ipython3",
   "version": "3.7.7"
  }
 },
 "nbformat": 4,
 "nbformat_minor": 4
}
