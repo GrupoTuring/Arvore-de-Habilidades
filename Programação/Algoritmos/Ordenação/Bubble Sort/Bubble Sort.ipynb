{
 "cells": [
  {
   "cell_type": "markdown",
   "metadata": {},
   "source": [
    "<img src=\"https://i.ibb.co/DtHQ3FG/802x265-Logo-GT.png\" width=\"500\">\n",
    "\n",
    "# BubbleSort\n",
    "<p>Algoritmos de ordenação, de modo geral, servem  para colocar um conjunto de itens em uma ordem, seja ela numérica ou lexicográfica. Um dos primeiros algoritmos de ordenação aprendido por estudantes de programação é o <strong>BubbleSort</strong>, que iremos tratar neste notebook.</p>\n",
    "\n",
    "## Entendendo o funcionamento do algoritmo\n",
    "Em termos de complexidade de implementação, o BubbleSort é um dos algoritmos mais simples, embora tenha um desempenho ruim quando comparado aos demais métodos de ordenação existntes hoje em dia. Em suma, o algoritmo funciona da seguinte maneira:\n",
    "\n",
    "---\n",
    "***DESCRIÇÃO DO ALGORITMO***\n",
    "\n",
    "    Em uma iteração comparam-se dois elementos seguidos e trocam-se suas posições se o segundo elemento (o mais a direita) é menor do que o primeiro. Dessa forma, avança-se sobre o vetor, indo até seu final e fazendo quantas trocas necessárias. Ao chegar ao final do vetor, teremos o maior elemento do vetor na última posição (posição mais a direita).\n",
    "    Repete-se o processo até que não ocorra mais trocas entre elementos do vetor.\n",
    "\n",
    "---\n",
    "Para exemplificar, veja a imagem a seguir demonstrando o funcionamento de uma passagem do algoritmo através de todo o vetor: \n",
    "\n",
    "<img src=\"https://www.equestionanswers.com/c/images/bubble-sort-step1-iteration-stages.png\">\n",
    "\n",
    "## Pseudo-código e implementação\n",
    "Certifique-se que conseguiu entendeu a funcionamento básico do algoritmo que agora é hora de implementá-lo!\n",
    "Antes de mais nada, vamos repassar o algoritmo, agora por meio de seu pseudo-código:\n",
    "\n",
    "```pseudocode\n",
    "Entradas: A (vetor), N (tamanho do vetor A)\n",
    "Saídas: A_ordenado (vetor)\n",
    "\n",
    "ocorreu_troca = true\n",
    "Enquanto ocorreu_troca == true:\n",
    "    ocorreu_troca = false\n",
    "    para j em 0 a N - 1:\n",
    "        se A[j] > A[j + 1]\n",
    "            troca(A[j], A[j + 1])\n",
    "            ocorreu_troca = true\n",
    "```\n",
    "\n",
    "Dito tudo isso, estamos mais do que prontos para colocar a mão na massa e implementar de fato o algoritmo em Python."
   ]
  },
  {
   "cell_type": "code",
   "execution_count": 13,
   "metadata": {},
   "outputs": [],
   "source": [
    "#Função auxiliar que realiza a troca entre 2 elementos de um vetor\n",
    "def troca(vetor, indice):\n",
    "    aux = vetor[indice]\n",
    "    vetor[indice] = vetor[indice+1]\n",
    "    vetor[indice+1] = aux\n",
    "\n",
    "#BubbleSort\n",
    "def BubbleSort(A):\n",
    "    #Inicializamos a variável como true para passar pelo menos uma vez pelo laço\n",
    "    ocurreu_troca = True\n",
    "    while ocurreu_troca:\n",
    "        ocurreu_troca = False \n",
    "        for i in range(len(A) - 1): \n",
    "            if A[i] > A[i + 1]: \n",
    "                troca(A, i) # Realiza a troca se o segundo tem valor maior que o primeiro\n",
    "                ocurreu_troca = True # Como houve troca de valores, deve-se continuar a iteração\n",
    "    return A"
   ]
  },
  {
   "cell_type": "code",
   "execution_count": 14,
   "metadata": {},
   "outputs": [
    {
     "name": "stdout",
     "output_type": "stream",
     "text": [
      "[5, 6, 8, 10, 17]\n"
     ]
    }
   ],
   "source": [
    "#Exemplo de utilização do algoritmo\n",
    "\n",
    "vetor = [6, 5, 17, 8, 10]\n",
    "\n",
    "print(BubbleSort(vetor))"
   ]
  },
  {
   "cell_type": "markdown",
   "metadata": {},
   "source": [
    "## Complexidade \n",
    "A complexidade de um algoritmo tem a ver com quanto tempo e memória que esse algoritmo gasta de acordo com o tamanho de sua entrada. A notação mais comumente utilizada é a Big-$\\theta$ que representa a informação sobre a média de execução do algoritmo. Neste caso, é comum também fazer aproximações ou desconsiderar casos excepcionais.\n",
    "\n",
    ">***COMPLEXIDADE MÉDIA DO ALGORITMO***<br/>\n",
    "Considerando a notação Big-$\\theta$, no caso médio o BubbleSort executa $N^2$ operações relevantes onde $N$ é o tamanho da entrada do algoritmo. Assim, o algoritmo tem complexidade $\\Theta(N^2)$.\n",
    ">\n",
    "\n",
    "Para avaliar o pior e o melhor caso, utilizamos outras notações que não são importantes no momento. Para os interessados no assunto, podem conferir [aqui](https://www.geeksforgeeks.org/analysis-of-algorithms-set-3asymptotic-notations/) uma explicação dessas notações.\n",
    "\n",
    ">***COMPLEXIDADE DO ALGORITMO NO PIOR CASO***<br/>\n",
    "No pior caso o BubbleSort executa $N^2$ operações relevantes onde $N$ é o tamanho da entrada do algoritmo. Assim, o algoritmo tem complexidade $O(N^2)$.\n",
    ">\n",
    "\n",
    ">***COMPLEXIDADE DO ALGORITMO NO MELHOR CASO***<br/>\n",
    "No melhor caso o BubbleSort executa $N$ operações relevantes onde $N$ é o tamanho da entrada do algoritmo. Assim, o algoritmo tem complexidade $\\Omega(N)$.\n",
    ">\n"
   ]
  },
  {
   "cell_type": "markdown",
   "metadata": {},
   "source": [
    "## Para saber mais...\n",
    ">O algoritmo de “ordenação bolha”, ou “BubbleSort”, recebeu este nome pela imagem pitoresca usada para descrevê-lo: os elementos maiores são mais leves, e sobem como bolhas até suas posições corretas.<br/>\n",
    "W. Celes e J. L. Rangel\n",
    ">"
   ]
  },
  {
   "cell_type": "markdown",
   "metadata": {},
   "source": [
    "### `Referências utilizadas e links importantes:`\n",
    "- [Referência principal do Notebook](https://medium.com/@henriquebraga_18075/algoritmos-de-ordena%C3%A7%C3%A3o-i-bubble-sort-c162a67261ef)\n",
    "- [Mais sobre BubbleSort](http://devfuria.com.br/logica-de-programacao/introducao-ao-algoritmo-de-ordenacao-bubble-sort/)\n",
    "- [Mais ainda sobre BubbleSort (Wikipedia)](https://pt.wikipedia.org/wiki/Bubble_sort)\n",
    "- [Complexidade de Algoritmos](https://pt.stackoverflow.com/questions/56836/defini%C3%A7%C3%A3o-da-nota%C3%A7%C3%A3o-big-o)"
   ]
  },
  {
   "cell_type": "markdown",
   "metadata": {},
   "source": [
    "$\\text{Autor: Wesley P de Almeida}$"
   ]
  }
 ],
 "metadata": {
  "kernelspec": {
   "display_name": "Python 3",
   "language": "python",
   "name": "python3"
  },
  "language_info": {
   "codemirror_mode": {
    "name": "ipython",
    "version": 3
   },
   "file_extension": ".py",
   "mimetype": "text/x-python",
   "name": "python",
   "nbconvert_exporter": "python",
   "pygments_lexer": "ipython3",
   "version": "3.7.3"
  }
 },
 "nbformat": 4,
 "nbformat_minor": 2
}
