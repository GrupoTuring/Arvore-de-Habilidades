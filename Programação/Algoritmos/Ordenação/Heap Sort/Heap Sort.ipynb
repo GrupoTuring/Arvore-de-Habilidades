{
 "cells": [
  {
   "cell_type": "markdown",
   "metadata": {},
   "source": [
    "<img src=\"https://i.ibb.co/DtHQ3FG/802x265-Logo-GT.png\" width=\"500\">\n",
    "\n",
    "# HeapSort\n",
    "<p>Algoritmos de ordenação, de modo geral, servem  para colocar um conjunto de itens em uma ordem, seja ela numérica ou lexicográfica. Nesse notebook falaremos do <strong>HeapSort</strong> um dos algoritmos de ordenação mais eficientes e com ampla utilização nas diversas áreas da computação.</p>\n",
    "\n",
    "$\\text{Autor: Wesley P de Almeida}$\n",
    "\n",
    "## Entendendo o funcionamento do algoritmo\n",
    "\n",
    "\n",
    "### Heap e Máx-Heap\n",
    "\n",
    "O segredo do algoritmo HeapSort é uma estrutura de dados conhecida como heap binário. O heap é construído a partir de uma outra estrutura que chamamos de árvore binária. Cada elemento da árvore é chamado de ***nó*** da árvore.\n",
    "\n",
    ">***DEFINIÇÃO DE ÁRVORE BINÁRIA***<br/>\n",
    "Uma árvore (binária) é uma estrutura hierárquica em que cada elemento (pai) é associado a duas sub-árvores disjustas (filhos). Aqui, a definição da árvore é recursiva, ou seja, cada subárvore também possui a mesma estrutura descrita para o primeiro elemento.<br/>\n",
    "Exemplo de uma árvore binária:\n",
    "<img src=\"https://upload.wikimedia.org/wikipedia/commons/thumb/f/f7/Binary_tree.svg/200px-Binary_tree.svg.png\">\n",
    ">\n",
    "\n",
    "A partir dessa estrutura de dados podemos definir o que é um ***máx-heap***\n",
    "\n",
    ">***DEFINIÇÃO MÁX-HEAP***<br/>\n",
    "Um máx-heap (binário) é uma estrutura hierárquica baseada em uma árvore binária, onde as seguintes características são satisfeitas:<br/>\n",
    "1. Completa até o penúltimo nível \n",
    "2. As folhas do último nível estão o mais à esquerda possível\n",
    "3. Cada elemento deve ser maior que seus elementos filhos\n",
    "<br/> <br/>\n",
    "<font size=\"2\">Aqui <b>nível</b> pode ser definido como o número de \"patamares\" que uma árvore possui</fonte>\n",
    "><br/>\n",
    "<font size=\"2\">Aqui o termo <b>folhas</b> é utilizado para denotar os nós que não possuem filhos</fonte>\n",
    ">\n",
    "\n",
    "Da definição de uma máx-heap já podemos tirar algumas conclusões: Na estrutura de máx-heap, o maior elemento está sempre na raiz (raiz trata-se do nó que não possui pai) pois como cada elemento deve ser maior que seus filhos, o nó da raiz necessita ser maior que cada uma das sub-árvores filhas dele. Para implementar um heap podemos utilizar um vetor:\n",
    "<img src=\"https://www.interviewcake.com/images/svgs/heapsort__input_list_as_binary_tree.svg?bust=206\">\n",
    "\n",
    "Os filhos do elemento $i$ estão nas posições $2i+1$ e $2i+2$\n",
    "<br/>\n",
    "O pai do elemento $i$ está em $\\Bigl\\lfloor\\dfrac{i-1}{2}\\Bigr\\rfloor$\n",
    "\n",
    "Bom, agora que já sabemos o que é um (máx) Heap e também sabemos como identificar os filhos e o pai de um determinado elemento do vetor, podemos explicitar o funcionamento do ***HeapSort***\n",
    "\n",
    "---\n",
    "***DESCRIÇÃO DO ALGORITMO HEAPSORT***\n",
    "\n",
    "    - Dado um vetor A de n elementos, transformar o vetor em um Heap\n",
    "    - Pegar a posição A[0] (ou seja, o maior elemento pois trata-se de um máx-heap) e trocar de posição com A[max], onde max é o último elemento do vetor.\n",
    "    - Repetir o processo com um array formado pelos elementos A[0], ..., A[max-1]\n",
    "---\n",
    "\n",
    "Dessa forma, a cada passagem pelo algoritmo, colocaremos o maior elemento na última posição e chamaremos o algoritmo para os demais $n-1$ elementos do vetor A.\n",
    "\n",
    "### Começando a implementar o algoritmo...\n",
    "\n",
    "Se soubermos \"heapficar\" o vetor, ou seja, reorganizá-lo para satisfazer a estrutura de uma máx-heap podemos usar a estrutura para ordenar o vetor. O primeiro algoritmo que iremos fazer é a função <code>Rebaixa(A, n, i)</code> que recebe um vetor $A$, o tamanho $n$ desse vetor e um elemento pai $i$ e analisa todos os filhos (a as subárvores abaixo desse nó) e transforma-o num máx-heap. A título de maior entendimento, iremos direto para o código e todos os comentários pertinentes serão colocados ao longo do código."
   ]
  },
  {
   "cell_type": "code",
   "execution_count": 4,
   "metadata": {},
   "outputs": [],
   "source": [
    "#Função auxiliar que realiza a troca entre 2 elementos de um vetor\n",
    "def troca(vetor, ind_1, ind_2):\n",
    "    aux = vetor[ind_1]\n",
    "    vetor[ind_1] = vetor[ind_2]\n",
    "    vetor[ind_2] = aux\n",
    "    \n",
    "#Rebaixa\n",
    "def Rebaixa(A, n, i):\n",
    "    pai = i\n",
    "    filho = 2*i + 1                                #Aqui utilizamos as fórmulas já descritas acima\n",
    "    while filho < n:                               #Iteramos enquanto não chegamos ao final do vetor\n",
    "        if filho + 1 < n and A[filho+1] > A[filho]: #Aqui verificamos se o filho da direita existe(não estoura\n",
    "            filho = filho+1                        #o vetor) e definidos como filho, o maior entre filho e filho+1\n",
    "        if A[pai] > A[filho]:\n",
    "            break                                  #Se o pai é maior que os filhos, encerro o algoritmo\n",
    "        troca(A, pai, filho)                       #Se o filho é maior troco ele com o pai\n",
    "        pai = filho\n",
    "        filho = 2*pai+1                            #Como troquei, preciso analisar se o resto o vetor segue a\n",
    "                                                   #estrutura do max-heap, por isso continuo o algoritmo"
   ]
  },
  {
   "cell_type": "markdown",
   "metadata": {},
   "source": [
    "### Montando o max-Heap\n",
    "\n",
    "Percebemos então que o algoritmo <code>Rebaixa(A, n, i)</code> considera que as subárvores filhas já estejam ordenadas (isso é explicitado pelo fato de darmos um <code>break</code> caso não aja troca). Isso ficará mais claro a seguir, pois chamaremos essa função começando do final do Heap. Dessa forma, de fato, ao chegar num nó pai, sabemos que sub-árovres estão ordenadas.<br/>\n",
    "Em mãos da função <code>Rebaixa(A, n, i)</code>, definiremos a função <code>Heapfica(A, n)</code> que chama a função Rebaixa para todos os nós pais existentes no Heap, começando do final para satisfazer a condição importa implicitamente por <code>Rebaixa(A, n, i)</code>. Veja:"
   ]
  },
  {
   "cell_type": "code",
   "execution_count": 7,
   "metadata": {},
   "outputs": [],
   "source": [
    "def Heapfica(A, n):\n",
    "    i = int((n-1)/2)  #Aqui utilizamos a fórmula descrita acima para pegar o nó pai mais extremo\n",
    "    while i >= 0:\n",
    "        Rebaixa(A, n, i)\n",
    "        i-=1"
   ]
  },
  {
   "cell_type": "code",
   "execution_count": 10,
   "metadata": {},
   "outputs": [
    {
     "name": "stdout",
     "output_type": "stream",
     "text": [
      "[9, 6, 8, 3, -3, 5, -6, 1, 2]\n"
     ]
    }
   ],
   "source": [
    "#Exemplo de utilização do algoritmo\n",
    "\n",
    "vetor = [9, -3, 5, 2, 6, 8, -6, 1, 3]\n",
    "n = len(vetor)\n",
    "\n",
    "Heapfica(vetor, n)\n",
    "print(vetor)"
   ]
  },
  {
   "cell_type": "markdown",
   "metadata": {},
   "source": [
    "Aqui percebemos que o maior elemento do vetor está na posição ```A[0]```, como esperado."
   ]
  },
  {
   "cell_type": "markdown",
   "metadata": {},
   "source": [
    "### Enfim HeapSort!\n",
    "Agora que temos a função <code>Heapfica(A, n)</code> basta fazer o descrito pelo algoritmo:\n",
    "1. Transformar o vetor em um Heap\n",
    "2. Pegar a posição A[0] (ou seja, o maior elemento pois trata-se de um máx-heap) e trocar de posição com A[max], onde max é o último elemento do vetor.\n",
    "3. Repetir o processo com um array formado pelos elementos A[0], ..., A[max-1]\n",
    "<br/>\n",
    "Veja a implementação abaixo:"
   ]
  },
  {
   "cell_type": "code",
   "execution_count": 11,
   "metadata": {},
   "outputs": [],
   "source": [
    "#HeapSort\n",
    "def HeapSort(A, n):\n",
    "    Heapfica(A, n)             # Chamo uma vez para colocar o maior elemento na posição 0\n",
    "    i = n-1\n",
    "    while i > 0:\n",
    "        troca(A, 0, i)         # Troco o primeiro elemento com o último\n",
    "        Heapfica(A, i)         # Repito o processo com n agora sendo i (n-1)\n",
    "        i-=1"
   ]
  },
  {
   "cell_type": "code",
   "execution_count": 12,
   "metadata": {},
   "outputs": [
    {
     "name": "stdout",
     "output_type": "stream",
     "text": [
      "[-6, -3, 1, 2, 3, 5, 6, 8, 9]\n"
     ]
    }
   ],
   "source": [
    "#Exemplo de utilização do algoritmo\n",
    "\n",
    "vetor = [9, -3, 5, 2, 6, 8, -6, 1, 3]\n",
    "n = len(vetor)\n",
    "\n",
    "HeapSort(vetor, n)\n",
    "print(vetor)"
   ]
  },
  {
   "cell_type": "markdown",
   "metadata": {},
   "source": [
    "## Complexidade \n",
    "A complexidade de um algoritmo tem a ver com quanto tempo e memória que esse algoritmo gasta de acordo com o tamanho de sua entrada. A notação mais comumente utilizada é a Big-$\\theta$ que representa a informação sobre a média de execução do algoritmo. Neste caso, é comum também fazer aproximações ou desconsiderar casos excepcionais.\n",
    "\n",
    ">***COMPLEXIDADE MÉDIA DO ALGORITMO***<br/>\n",
    "Considerando a notação Big-$\\mathcal{O}$, no caso médio o HeapSort executa $n\\log_2n$ operações relevantes onde $n$ é o tamanho da entrada do algoritmo. Assim, o algoritmo tem complexidade $\\mathcal{O}(n\\log_2n)$.\n",
    ">\n",
    "\n",
    "Para avaliar o pior e o melhor caso, utilizamos outras notações que não são importantes no momento. Para os interessados no assunto, podem conferir [aqui](https://www.geeksforgeeks.org/analysis-of-algorithms-set-3asymptotic-notations/) uma explicação dessas notações.\n",
    "\n",
    ">***COMPLEXIDADE DO ALGORITMO NO PIOR CASO***<br/>\n",
    "No pior caso o HeapSort executa $n\\log_2n$ operações relevantes onde $n$ é o tamanho da entrada do algoritmo. Assim, o algoritmo tem complexidade $O(n\\log_2n)$.\n",
    ">\n",
    "\n",
    ">***COMPLEXIDADE DO ALGORITMO NO MELHOR CASO***<br/>\n",
    "No melhor caso o HeapSort executa $n\\log_2n$ operações relevantes onde $n$ é o tamanho da entrada do algoritmo. Assim, o algoritmo tem complexidade $\\Omega(n\\log_2n)$.\n",
    ">"
   ]
  },
  {
   "cell_type": "markdown",
   "metadata": {},
   "source": [
    "### `Referências utilizadas e links importantes:`\n",
    "- [Referência principal do Notebook](https://www.ime.usp.br/~pf/algoritmos-livro/)\n",
    "- [Mais sobre HeapSort](https://pt.wikipedia.org/wiki/Heapsort)\n",
    "- [Complexidade de Algoritmos](https://pt.stackoverflow.com/questions/56836/defini%C3%A7%C3%A3o-da-nota%C3%A7%C3%A3o-big-o)\n",
    "- [Mais ainda sobre HeapSort](https://www.cos.ufrj.br/~rfarias/cos121/aula_09.html)"
   ]
  }
 ],
 "metadata": {
  "kernelspec": {
   "display_name": "Python 3",
   "language": "python",
   "name": "python3"
  },
  "language_info": {
   "codemirror_mode": {
    "name": "ipython",
    "version": 3
   },
   "file_extension": ".py",
   "mimetype": "text/x-python",
   "name": "python",
   "nbconvert_exporter": "python",
   "pygments_lexer": "ipython3",
   "version": "3.7.3"
  }
 },
 "nbformat": 4,
 "nbformat_minor": 2
}
