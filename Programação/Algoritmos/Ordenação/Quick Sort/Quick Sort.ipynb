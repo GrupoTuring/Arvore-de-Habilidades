{
 "cells": [
  {
   "cell_type": "markdown",
   "metadata": {},
   "source": [
    "<img src=\"https://i.ibb.co/DtHQ3FG/802x265-Logo-GT.png\" width=\"500\">\n",
    "\n",
    "# QuickSort\n",
    "<p>Algoritmos de ordenação, de modo geral, servem  para colocar um conjunto de itens em uma ordem, seja ela numérica ou lexicográfica. Nesse notebook trataremos do <strong>QuickSort</strong> um dos algoritmos de ordenação mais conhecidos, por ser um dos mais eficientes e largamente utilizado em projetos de linguagens de programação.</p>\n",
    "\n",
    "$\\text{Autor: Wesley P de Almeida}$\n",
    "\n",
    "## Entendendo o funcionamento do algoritmo\n",
    "O QuickSort é separado basicamente em resolver um problema sobre um vetor e partir dessa resolução o algoritmo é construído. Primeiro, vamos entender qual é esse problema e como resolvê-lo.\n",
    "\n",
    "### Separação\n",
    ">***O problema da separação***<br/>\n",
    "Queremos um algoritmo que rearranje um vetor $v[p..r]$ de modo que os elementos menores do que um pivô $c$(que nada mais é do que um elemento do vetor escolhido ao acaso) fiquem a esquerda de tal elemento e os elementos maiores que $c$ fiquem a sua direita \n",
    ">  \n",
    "\n",
    "Para resolver tal problema utilizaremos o seguinte algoritmo:\n",
    "\n",
    "---\n",
    "***DESCRIÇÃO DO ALGORITMO SEPARA***\n",
    "\n",
    "    Escolhemos um elemento para ser o pivô. Com isso, começamos a iterar sobre todo o vetor A tendo 2 ponteiros: um ponteiro K que aponta em qual posição do vetor estamos e outro ponteiro J que marca onde está o fim dos elementos menores que o pivô. A cada iteração aumentamos o ponteiro K e comparamos o valor daquela posição com o pivô, se for MENOR, trocamos A[K] e A[J] e incrementamos J, de tal forma que o elemento menor que o pivô fique na parte do vetor de elementos menores que K\n",
    "---\n",
    "\n",
    "Para exemplicar o funcionamento descrito acima, veja as imagens abaixo:\n",
    "<br/>\n",
    "<br/>\n",
    "<div style=\"text-align: center\"> Aqui temos o vetor em um passo intermediário do algoritmo, onde c é o pivô \n",
    "<img src=\"https://i.imgur.com/CvS1RBj.png\">\n",
    "</div>\n",
    "<br/>\n",
    "<div style=\"text-align: center\"> Aqui temos o vetor na última passagem do algoritmo \n",
    "<img src=\"https://i.imgur.com/ToM3lMe.png\">\n",
    "</div>\n",
    "<br/>\n",
    "<div style=\"text-align: center\"> Aqui temos o vetor após a finalização do algoritmo \n",
    "<img src=\"https://i.imgur.com/tnufERQ.png\">\n",
    "</div>\n",
    "\n",
    "\n",
    "Com isso podemos repassar o algoritmo de maneira mais estruturada com seu pseudocódigo:\n",
    "```\n",
    "Entradas: A (vetor), p (início do vetor), r(final do vetor)\n",
    "Saidas: j (índice do vetor A tal que v[p..j-1] <= v[j] <= [j+1..r])\n",
    "\n",
    "define-se c, j, k e t\n",
    "c = A[r] // Pivô\n",
    "j = p\n",
    "k = p\n",
    "Enquanto  k < r:\n",
    "    Se A[k] <= c\n",
    "        troca(A[j], A[k])\n",
    "        incrementa-se j em 1 unidade\n",
    "    incrementa-se k em 1 unidade\n",
    "A[r] = A[j]\n",
    "A[j] = A[c]\n",
    "```\n",
    "\n",
    "Com todo o entendimento do algoritmo em mãos, podemos de fato codá-lo!"
   ]
  },
  {
   "cell_type": "code",
   "execution_count": 18,
   "metadata": {},
   "outputs": [],
   "source": [
    "#Função auxiliar que realiza a troca entre 2 elementos de um vetor\n",
    "def troca(vetor, ind_1, ind_2):\n",
    "    aux = vetor[ind_1]\n",
    "    vetor[ind_1] = vetor[ind_2]\n",
    "    vetor[ind_2] = aux\n",
    "    \n",
    "# Separa\n",
    "def Separa(p, r, A):\n",
    "    c = A[r] #Escolhemos o último elemento do vetor como pivô\n",
    "    j = p\n",
    "    k = p\n",
    "    while k < r:\n",
    "        if A[k] <= c:\n",
    "            troca(A, j, k)\n",
    "            j+=1\n",
    "        k+=1\n",
    "    #Colocamos o pivô no meio\n",
    "    A[r] = A[j]\n",
    "    A[j] = c\n",
    "    \n",
    "    return j"
   ]
  },
  {
   "cell_type": "code",
   "execution_count": 24,
   "metadata": {},
   "outputs": [
    {
     "name": "stdout",
     "output_type": "stream",
     "text": [
      "Indice do pivo: 4\n",
      "Vetor após a separação: [-3, 2, -6, 1, 3, 8, 5, 9, 6]\n"
     ]
    }
   ],
   "source": [
    "#Exemplo de utilização do algoritmo\n",
    "\n",
    "vetor = [9, -3, 5, 2, 6, 8, -6, 1, 3]\n",
    "ini_vetor = 0\n",
    "fim_vetor = len(vetor)-1\n",
    "\n",
    "indice = Separa(ini_vetor, fim_vetor, vetor)\n",
    "print(\"Indice do pivo: \" + str(indice))\n",
    "print(\"Vetor após a separação: \" + str(vetor))"
   ]
  },
  {
   "cell_type": "markdown",
   "metadata": {},
   "source": [
    "### E vamos de QuickSort!\n",
    "Tendo o algoritmo de separação em mãos podemos focar de fato no QuickSort. O algoritmo do QuickSort utiliza a estratégia [\"Dividir para conquistar\"](https://en.wikipedia.org/wiki/Divide_and_conquer). Esse paradigma é uma abordagem recursiva em que a entrada do algoritmo é ramificada múltiplas vezes a fim de quebrar o problema maior em problema menores da mesma natureza. Para isso, fazemos uma recursão sobre o vetor, dividindo-o em partes menores e aplicando o algoritmo <code>Separa(p, r, A)</code> descrito acima.\n",
    "\n",
    "A fim de melhor o entendimento do algoritmo, partiremos logo para o código e em seguida mostraremos os detalhes e o mecanismo de funcionamento. Borá lá?"
   ]
  },
  {
   "cell_type": "code",
   "execution_count": 19,
   "metadata": {},
   "outputs": [],
   "source": [
    "#QuickSort\n",
    "def QuickSort(p, r, A):\n",
    "    if (p < r):\n",
    "        j = Separa(p, r, A)\n",
    "        QuickSort(p, j-1, A)\n",
    "        QuickSort(j+1, r, A)"
   ]
  },
  {
   "cell_type": "code",
   "execution_count": 25,
   "metadata": {},
   "outputs": [
    {
     "name": "stdout",
     "output_type": "stream",
     "text": [
      "[-6, -3, 1, 2, 3, 5, 6, 8, 9]\n"
     ]
    }
   ],
   "source": [
    "#Exemplo de utilização do algoritmo\n",
    "\n",
    "vetor = [9, -3, 5, 2, 6, 8, -6, 1, 3]\n",
    "ini_vetor = 0\n",
    "fim_vetor = len(vetor)-1\n",
    "\n",
    "QuickSort(ini_vetor, fim_vetor, vetor)\n",
    "print(vetor)"
   ]
  },
  {
   "cell_type": "markdown",
   "metadata": {},
   "source": [
    "Veja a imagem abaixo que representa a execução do <code>QuickSort</code> em um vetor:\n",
    "<img src=\"https://www.techiedelight.com/wp-content/uploads/Quicksort.png\">\n",
    "\n",
    "No passo a passo temos:\n",
    "\n",
    "<div style=\"text-align: center\"> No início temos o vetor desordenado com pivô 3: <br/>\n",
    "<b><font size=\"3\"> [ 9 | -3 | 5 | 2 | 6 | 8 | -6 | 1 | <span style=\"color:red\">3</span> ] </font> </b> <code>(i)</code>\n",
    "</div> \n",
    "<br/>\n",
    "<div style=\"text-align: center\"> Usamos a função <code>Separa</code> para dividir o vetor e neste caso <code>j = 4</code>: <br/>\n",
    "<b><font size=\"3\"> [ -3 | 2 | -6 | 1 | <span style=\"color:red\">3</span> | 8 | 5 | 9 | 6 ] </font> </b>\n",
    " <code>(ii)</code>\n",
    "</div> \n",
    "<br/>\n",
    "<div style=\"text-align: center\"> Com isso, analisando a função <code>QuickSort</code>  percebemos que chamamos a função para a primeira parte do vetor (<code>p = 0, r = 3</code>) e teremos nosso pivô sendo o último elemento dessa parte: <br/>\n",
    "<b><font size=\"3\"> [ -3 | 2 | -6 | <span style=\"color:red\">1</span> |<span style=\"color:lightgrey\"> 3 | 8 | 5 | 9 | 6 ] </span></font> </b>\n",
    "<code>(iii)</code>\n",
    "</div>\n",
    "<br/>\n",
    "<div style=\"text-align: center\"> Usamos a função <code>Separa</code> para dividir o vetor e neste caso <code>j = 2</code>: <br/>\n",
    "<b><font size=\"3\"> [ -3 | -6 | <span style=\"color:red\">1</span> | 2 |<span style=\"color:lightgrey\"> 3 | 8 | 5 | 9 | 6 ] </span></font> </b>\n",
    "<code>(iv)</code>\n",
    "</div>\n",
    "<br/>\n",
    "<div style=\"text-align: center\"> Novamente, analisando a função <code>QuickSort</code>  percebemos que chamamos a função para a primeira parte do vetor que estamos utilizando (<code>p = 0, r = 1</code>) e teremos nosso pivô sendo o último elemento dessa parte: <br/>\n",
    "<b><font size=\"3\"> [ -3 | <span style=\"color:red\">-6</span> |<span style=\"color:lightgrey\"> 1 | 2 | 3 | 8 | 5 | 9 | 6 ] </span></font> </b>\n",
    "<code>(v)</code>\n",
    "</div>\n",
    "<br/>\n",
    "<div style=\"text-align: center\"> Usamos a função <code>Separa</code> para dividir o vetor e neste caso <code>j = 0</code>: <br/>\n",
    "<b><font size=\"3\"> [ <span style=\"color:red\">-6</span> |-3 | <span style=\"color:lightgrey\"> 1 | 2 | 3 | 8 | 5 | 9 | 6 ] </span></font> </b>\n",
    "<code>(vi)</code>\n",
    "</div>\n",
    "<br/>\n",
    "Aqui chegamos no ponto principal no algoritmo: quando chamarmos a função <code>QuickSort</code> para a primeira parte desse vetor de apenas 2 elementos, teremos <code>p = 0, r = -1</code>, pois <code> r = j-1 </code>. Assim, começamos a voltar na <b>PILHA DE RECURSÃO</b>, e chamaremos a função <code>QuickSort</code> para a segunda parte dos subvetores que fomos chamando. Ou seja, primeiro chamaremos <code>QuickSort</code> para o subvetor <b><font size=\"2\">|-3 |</font> </b> de <code>(vi)</code>, em seguida, voltaríamos mais na pilha de recursão, chamando <code>QuickSort</code> para o subvetor <b><font size=\"2\">| 2 |</font> </b> de <code>(iv)</code> e então voltaríamos mais ainda para o sub vetor  <b><font size=\"2\"> | 8 | 5 | 9 | 6 ]</font> </b> de <code>(ii)</code>, onde repetimos todo o processo descrito acima."
   ]
  },
  {
   "cell_type": "markdown",
   "metadata": {},
   "source": [
    "## Complexidade \n",
    "A complexidade de um algoritmo tem a ver com quanto tempo e memória que esse algoritmo gasta de acordo com o tamanho de sua entrada. A notação mais comumente utilizada é a Big-$\\mathcal{O}$ que representa a informação sobre a média de execução do algoritmo. Neste caso, é comum também fazer aproximações ou desconsiderar casos excepcionais.\n",
    "\n",
    ">***COMPLEXIDADE MÉDIA DO ALGORITMO***<br/>\n",
    "Considerando a notação Big-$\\mathcal{O}$, no caso médio o QuickSort executa $n\\log_2n$ operações relevantes onde $n$ é o tamanho da entrada do algoritmo. Assim, o algoritmo tem complexidade $\\mathcal{O}(n\\log_2n)$.\n",
    ">\n",
    "\n",
    "Para avaliar o pior e o melhor caso, utilizamos outras notações que não são importantes no momento. Para os interessados no assunto, podem conferir [aqui](https://www.geeksforgeeks.org/analysis-of-algorithms-set-3asymptotic-notations/) uma explicação dessas notações.\n",
    "\n",
    ">***COMPLEXIDADE DO ALGORITMO NO PIOR CASO***<br/>\n",
    "No pior caso o QuickSort executa $n^2$ operações relevantes onde $n$ é o tamanho da entrada do algoritmo. Assim, o algoritmo tem complexidade $O(n^2)$.\n",
    ">\n",
    "\n",
    ">***COMPLEXIDADE DO ALGORITMO NO MELHOR CASO***<br/>\n",
    "No melhor caso o QuickSort executa $n\\log_2n$ operações relevantes onde $n$ é o tamanho da entrada do algoritmo. Assim, o algoritmo tem complexidade $\\Omega(n\\log_2n)$.\n",
    ">"
   ]
  },
  {
   "cell_type": "markdown",
   "metadata": {},
   "source": [
    "### `Referências utilizadas e links importantes:`\n",
    "- [Referência principal do Notebook](https://www.ime.usp.br/~pf/algoritmos-livro/)\n",
    "- [Mais sobre QuickSort](http://www3.decom.ufop.br/toffolo/site_media/uploads/2013-1/bcc202/slides/15._quicksort.pdf)\n",
    "- [Complexidade de Algoritmos](https://pt.stackoverflow.com/questions/56836/defini%C3%A7%C3%A3o-da-nota%C3%A7%C3%A3o-big-o)"
   ]
  }
 ],
 "metadata": {
  "kernelspec": {
   "display_name": "Python 3",
   "language": "python",
   "name": "python3"
  },
  "language_info": {
   "codemirror_mode": {
    "name": "ipython",
    "version": 3
   },
   "file_extension": ".py",
   "mimetype": "text/x-python",
   "name": "python",
   "nbconvert_exporter": "python",
   "pygments_lexer": "ipython3",
   "version": "3.7.3"
  }
 },
 "nbformat": 4,
 "nbformat_minor": 2
}
