{
  "nbformat": 4,
  "nbformat_minor": 0,
  "metadata": {
    "colab": {
      "name": "Train, Test, Validation Split",
      "provenance": [],
      "collapsed_sections": []
    },
    "kernelspec": {
      "name": "python3",
      "display_name": "Python 3"
    }
  },
  "cells": [
    {
      "cell_type": "markdown",
      "metadata": {
        "id": "-PszqNBRxXy4"
      },
      "source": [
        "<img src=\"https://i.ibb.co/DtHQ3FG/802x265-Logo-GT.png\" width=\"500\">"
      ]
    },
    {
      "cell_type": "markdown",
      "metadata": {
        "id": "5HY2amcZxX4I"
      },
      "source": [
        "## Grupo Turing\n",
        "---"
      ]
    },
    {
      "cell_type": "markdown",
      "metadata": {
        "id": "b4sO3xJ5xX9W"
      },
      "source": [
        "# Divisão em base de treino e teste & Validação Cruzada: \n",
        "---\n",
        "\n",
        "- **Resumo:** O objetivo desse notebook é explicitar qual a importância de ter dados para treinar e testar seu modelo de machine learning e ainda abordar sobre cross-validation e como ela pode a ajudar a contornar uma limitação de dados **deixar textinho melhor**\n",
        "\n",
        "- **Requisitos:** Entender o básico das bibliotecas básicas (principalmente `pandas`), ter visto alguma vez `sklearn`\n",
        "\n",
        "- **Links:**\n",
        "    - [deeplizard](https://www.youtube.com/watch?v=Zi-0rlM4RDs)\n",
        "    - [StatQuest](https://www.youtube.com/watch?v=fSytzGwwBVw)\n",
        "    - [Machine Learning Mastery](https://machinelearningmastery.com/train-test-split-for-evaluating-machine-learning-algorithms/#:~:text=The%20reason%20is%20that%20when,effectively%20evaluate%20the%20model%20performance.)\n",
        "    - [towards data science](https://towardsdatascience.com/train-test-split-and-cross-validation-in-python-80b61beca4b6)\n",
        "    - [Medium](https://medium.com/@contactsunny/how-to-split-your-dataset-to-train-and-test-datasets-using-scikit-learn-e7cf6eb5e0d)\n",
        "    - [Scikit Documentation](https://scikit-learn.org/stable/modules/generated/sklearn.model_selection.train_test_split.html)\n",
        "\n"
      ]
    },
    {
      "cell_type": "markdown",
      "metadata": {
        "id": "VL1mgAGI5UM7"
      },
      "source": [
        "# Sets de Treino, Teste e Validação\n",
        "---\n",
        "\n",
        "Com certeza um dos maiores paradigmas dentro de modelos supervisionados de machine learning é a necessidade de você separar uma parte do seus dados para treino e outra ficar exclusivamente para teste, mas qual o motivo de fazer isso ?\n",
        "\n",
        "É natural termos dados de treino, uma vez que seu modelo vai continuamente analisar essa base para tentar aprender como as features influenciam o resultado, porém precisamos ter uma parte dos dados para conferirmos se nosso modelo apresenta a propriedade de generalização (e não só decorou a base de treino -> *overfitting*), para isso separamos uma parte dos dados para teste, que é basicamente um conjunto de dados com o mesmo formato do treino, inclusive rotulado, só que nunca vistos antes pelo modelo.\n",
        "\n",
        "<img src='https://drive.google.com/uc?id=17kInj35LWTjNtDG_R4HNB1cv2skXv9h-'>\n",
        "\n",
        "Vou dar um exemplo de como essa divisão pode ser feita usando o iris dataset, disponível no `sklearn`:"
      ]
    },
    {
      "cell_type": "code",
      "metadata": {
        "id": "R7nV_nOE5OlX",
        "outputId": "ced5d917-9780-4c84-9281-0d47513929e1",
        "colab": {
          "base_uri": "https://localhost:8080/",
          "height": 34
        }
      },
      "source": [
        "import pandas as pd\n",
        "from sklearn.datasets import load_iris\n",
        "\n",
        "# Primeira parte apenas para carregarmos nossos dados\n",
        "iris = load_iris()\n",
        "df = pd.DataFrame(iris.data, columns=iris.feature_names)\n",
        "df['target'] = pd.Series(iris.target)\n",
        "\n",
        "print(df.shape)"
      ],
      "execution_count": 1,
      "outputs": [
        {
          "output_type": "stream",
          "text": [
            "(150, 5)\n"
          ],
          "name": "stdout"
        }
      ]
    },
    {
      "cell_type": "markdown",
      "metadata": {
        "id": "h0746EOf3rNB"
      },
      "source": [
        "Legal com isso podemos ver que nosso dataset tem 150 observações, 4 features e 1 coluna de Target, mas agora a dúvida é: Qual deve ser a porcentagem de divisão dos meus dados ?\n",
        "\n",
        "Para essa pergunta temos a clássica resposta do depende, depende da quantidade de dados que você tem basicamente, pois você precisa ter tanto dados suficientes para treinar seu modelo quanto uma quantidade razoável para provar a eficiencia do seu modelo, mas como um bom norte geralmente se usa entre 15% a 25% dos dados para teste.\n",
        "\n",
        "Podemos fazer essa separação usando também o `sklearn`:"
      ]
    },
    {
      "cell_type": "code",
      "metadata": {
        "id": "gwzTSLGv5ps5",
        "outputId": "2e31688d-2317-4e92-9ba9-9c22791a10f2",
        "colab": {
          "base_uri": "https://localhost:8080/",
          "height": 51
        }
      },
      "source": [
        "from sklearn.model_selection import train_test_split\n",
        "\n",
        "# random_state serve para controlar a semente de como seus dados vão ser embaralhados\n",
        "X_treino, X_teste, y_treino, y_teste = train_test_split(df[df.columns[:-1]], df['target'], test_size=0.2, random_state=42)\n",
        "print(\"Treino:\", X_treino.shape, \"\\nTeste:\", X_teste.shape)"
      ],
      "execution_count": 2,
      "outputs": [
        {
          "output_type": "stream",
          "text": [
            "Treino: (120, 4) \n",
            "Teste: (30, 4)\n"
          ],
          "name": "stdout"
        }
      ]
    },
    {
      "cell_type": "markdown",
      "metadata": {
        "id": "bivZmsJN6i5C"
      },
      "source": [
        "Muito fácil, não ?\n",
        "\n",
        "Só passando as features e o target essa função do `sklearn` já divide seus dados em X e y para treino e teste segundo a proporção específicada em *test_size* que controla a porcentagem de dados separados para teste, no meu caso 20% deles (30 observações).\n",
        "\n",
        "Com ambos os dados de treino e teste (limpos) em mãos podemos fittar nosso modelo e ter nossas métricas de modo mais fiel representadas pelos dados de teste."
      ]
    },
    {
      "cell_type": "code",
      "metadata": {
        "id": "k9_dg9hx7745"
      },
      "source": [
        "from sklearn.neighbors import KNeighborsClassifier\n",
        "\n",
        "knn = KNeighborsClassifier()\n",
        "knn.fit(X_treino, y_treino)\n",
        "predição = knn.predict(X_teste)"
      ],
      "execution_count": 3,
      "outputs": []
    },
    {
      "cell_type": "code",
      "metadata": {
        "id": "vNfGQZ209KF5",
        "outputId": "4a7c7f32-631e-405e-d16f-b9c9c8392797",
        "colab": {
          "base_uri": "https://localhost:8080/",
          "height": 85
        }
      },
      "source": [
        "from sklearn import metrics\n",
        "\n",
        "print(  \"Acurácia:\", metrics.accuracy_score(y_teste, predição),\n",
        "      \"\\nPrecisão:\", metrics.precision_score(y_teste, predição, average='micro'),\n",
        "      \"\\n  Recall:\", metrics.recall_score(y_teste, predição, average='micro'),\n",
        "      \"\\nF1-score:\", metrics.f1_score(y_teste, predição, average='micro'))"
      ],
      "execution_count": 4,
      "outputs": [
        {
          "output_type": "stream",
          "text": [
            "Acurácia: 1.0 \n",
            "Precisão: 1.0 \n",
            "  Recall: 1.0 \n",
            "F1-score: 1.0\n"
          ],
          "name": "stdout"
        }
      ]
    },
    {
      "cell_type": "markdown",
      "metadata": {
        "id": "NgcrrQJm_94k"
      },
      "source": [
        "Observação:\n",
        "\n",
        "Em alguns casos, fora os dados de treino e teste temos também os dados de validação, esses dados geralmente são o objetivo do seu problema, e eles não estão rotulados."
      ]
    },
    {
      "cell_type": "markdown",
      "metadata": {
        "id": "UaFUs8QI74fa"
      },
      "source": [
        "# Validação Cruzada (Cross Validation)\n",
        "---\n",
        "\n",
        "Uma outra abordagem é a Validação Cruzada, nesse método seu dataset é dividido em K-folds (divisões) e o algoritmo de machine learning é então treinado em k-1 dessas divisões e testado na fold restante e isso é feito iterativamente até todas as divisões tenham sido separadas para teste (holdout) pelo menos uma vez.\n",
        "\n",
        "Essa abordagem é bem efetiva, pois tende a ter um resultado mais frio sobre o modelo que está se utilizando, uma vez que você vai ter uma estimativa mais geral do modelo.\n",
        "\n",
        "Esse método é muito bom para comparar modelos de Machine Learning que você quer usar no seu projeto e também para ajudar a achar os parâmetros de ajuste, parâmetros que não são treinados, mas sim adivinhados, como o valor de k dentro de um KNN.\n",
        "\n",
        "<img src=\"https://drive.google.com/uc?id=1mFMMRvfuhmljD-vsu4NZ-bBaCzc6_SJ4\" width=500>\n"
      ]
    },
    {
      "cell_type": "code",
      "metadata": {
        "id": "WoR3zm72CcBw"
      },
      "source": [
        "from sklearn.model_selection import cross_val_score\n",
        "\n",
        "K = [i for i in range(1, 21)]\n",
        "scores = []\n",
        "\n",
        "for k in K:\n",
        "    knn = KNeighborsClassifier(n_neighbors=k)\n",
        "    score = cross_val_score(knn, df[df.columns[:-1]], df['target'], cv=5, scoring='accuracy').mean()\n",
        "    scores.append(score)"
      ],
      "execution_count": 5,
      "outputs": []
    },
    {
      "cell_type": "code",
      "metadata": {
        "id": "4hFRbKERFVxj",
        "outputId": "06b50716-2833-4476-cafc-586b9307bb0d",
        "colab": {
          "base_uri": "https://localhost:8080/",
          "height": 282
        }
      },
      "source": [
        "import seaborn as sns\n",
        "\n",
        "sns.lineplot(x=K, y=scores)"
      ],
      "execution_count": 6,
      "outputs": [
        {
          "output_type": "execute_result",
          "data": {
            "text/plain": [
              "<matplotlib.axes._subplots.AxesSubplot at 0x7f770dbeefd0>"
            ]
          },
          "metadata": {
            "tags": []
          },
          "execution_count": 6
        },
        {
          "output_type": "display_data",
          "data": {
            "image/png": "[encoded data removed]",
            "text/plain": [
              "<Figure size 432x288 with 1 Axes>"
            ]
          },
          "metadata": {
            "tags": [],
            "needs_background": "light"
          }
        }
      ]
    },
    {
      "cell_type": "markdown",
      "metadata": {
        "id": "Abmxf_zeAWrQ"
      },
      "source": [
        "Observação:\n",
        "\n",
        "O valor de K é definido arbitrariamente, no exemplo anterior temos um 5-fold, por termos 5 divisões, em casos extremos temos o chamado leave-one-out Cross Validation, que consiste em usar como teste apenas 1 das amostras do dataset, porém na prática escolhemos K entre 5 e 10.\n",
        "\n",
        "<img src='https://drive.google.com/uc?id=1qk7ZGsyk6DiZQ91WG_WBFr6W6w6PNkNK' width=500>"
      ]
    },
    {
      "cell_type": "markdown",
      "metadata": {
        "id": "arXDcFOpy3Da"
      },
      "source": [
        "---\n",
        "**Grupo Turing**  \n",
        "Grupo de Extensão da Universidade de São Paulo (USP)\n",
        "\n",
        "[Email](mailto:turing.usp@gmail.com)   \n",
        "[Facebook](https://www.facebook.com/grupoturing.usp)  \n",
        "[Medium](https://www.medium.com/turing-talks)  \n",
        "[LinkedIn](https://www.linkedin.com/company/grupo-turing)"
      ]
    }
  ]
}